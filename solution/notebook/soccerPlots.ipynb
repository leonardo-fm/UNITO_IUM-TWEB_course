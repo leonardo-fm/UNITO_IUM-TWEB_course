{
 "cells": [
  {
   "cell_type": "code",
   "execution_count": null,
   "id": "cb355467",
   "metadata": {},
   "outputs": [],
   "source": [
    "# Required libraries\n",
    "%pip install matplotlib\n",
    "%pip install seaborn\n",
    "%pip install pandas\n",
    "%pip install numpy\n",
    "%pip install pymongo\n",
    "%pip install psycopg2"
   ]
  },
  {
   "cell_type": "code",
   "execution_count": null,
   "id": "9f5085e0-77c3-4a5e-bce0-c56c905fd968",
   "metadata": {},
   "outputs": [],
   "source": [
    "import matplotlib.pyplot as plt\n",
    "import seaborn as sns\n",
    "import pandas as pd\n",
    "import numpy as np\n",
    "from pymongo import MongoClient\n",
    "import psycopg2"
   ]
  },
  {
   "cell_type": "code",
   "execution_count": null,
   "id": "ebe0b056-182b-4fbe-b6f4-c0b80e3f8a02",
   "metadata": {},
   "outputs": [],
   "source": [
    "# Database connections\n",
    "\n",
    "# MongoDB\n",
    "mongoClient = MongoClient(\"localhost\", 27017) \n",
    "\n",
    "# PostgreSQL\n",
    "postgresConn = psycopg2.connect(\"dbname=ium_tweb user=postgres password=admin\")"
   ]
  },
  {
   "cell_type": "code",
   "execution_count": null,
   "id": "41ad17d5-8308-4442-bf73-9fb3c084468a",
   "metadata": {},
   "outputs": [],
   "source": [
    "# Mongo tables\n",
    "soccerDb = mongoClient.soccer\n",
    "soccerDb.list_collection_names()"
   ]
  },
  {
   "cell_type": "code",
   "execution_count": null,
   "id": "235050d3-be02-4e38-8342-229ce742abd6",
   "metadata": {},
   "outputs": [],
   "source": [
    "# PostgreSQL tables\n",
    "sqlCursor = postgresConn.cursor()\n",
    "sqlCursor.execute(\"SELECT table_name FROM information_schema.tables WHERE table_schema = 'public'\")\n",
    "sqlCursor.fetchall()"
   ]
  },
  {
   "cell_type": "code",
   "execution_count": null,
   "id": "d2ba9ffc-8f2b-4c96-9f0c-e8cb8aa245cf",
   "metadata": {},
   "outputs": [],
   "source": [
    "# This plot explores the relationship between the average number of goals per game and the market value of players in attacking roles\n",
    "\n",
    "# MongoDB data gathering\n",
    "cursor = soccerDb.appearances.aggregate([\n",
    "    {\n",
    "        \"$match\": {\n",
    "            \"$expr\": {\n",
    "                \"$eq\": [{ \"$year\": \"$date\" }, 2023]\n",
    "            }\n",
    "        }\n",
    "    },\n",
    "    {\n",
    "        \"$group\": {\n",
    "            \"_id\": \"$player_id\",\n",
    "            \"avgGoals\": { \"$avg\": \"$goals\" }\n",
    "        }\n",
    "    },\n",
    "    {\n",
    "        \"$project\": {\n",
    "            \"_id\": 0,\n",
    "            \"player_id\": \"$_id\",\n",
    "            \"avgGoals\": { \"$round\": [\"$avgGoals\", 4] }\n",
    "        }\n",
    "    },\n",
    "    {\n",
    "        \"$sort\": {\"avgGoals\": -1}\n",
    "    }\n",
    "])\n",
    "avgGoalsPlayer = pd.DataFrame(list(cursor))\n",
    "\n",
    "# PostgreSQL data gathering\n",
    "sqlCursor.execute(\"SELECT player_id, market_value_in_eur FROM player WHERE position = 'Attack'\")\n",
    "marketValuePlayer = pd.DataFrame(sqlCursor.fetchall())\n",
    "marketValuePlayer = marketValuePlayer.rename(columns={0: \"player_id\", 1: \"market_value\"})\n",
    "\n",
    "# Grouping the data together\n",
    "valueGoalPlot = pd.merge(avgGoalsPlayer, marketValuePlayer, on=\"player_id\")\n",
    "\n",
    "# Cleaning from dirty data\n",
    "valueGoalPlot = valueGoalPlot.dropna()\n",
    "\n",
    "# Flattening of values\n",
    "valueGoalPlot['market_value'] = np.log2(valueGoalPlot['market_value'])"
   ]
  },
  {
   "cell_type": "code",
   "execution_count": null,
   "id": "6c7ceae1",
   "metadata": {},
   "outputs": [],
   "source": [
    "# Creating scatter plot\n",
    "plt.figure(figsize=(12, 8))\n",
    "sns.scatterplot(x=valueGoalPlot[\"avgGoals\"], y=valueGoalPlot[\"market_value\"], data=valueGoalPlot, hue=valueGoalPlot[\"avgGoals\"], palette=\"rocket\")\n",
    "sns.kdeplot(x=valueGoalPlot[\"avgGoals\"], y=valueGoalPlot[\"market_value\"], levels=5, color=\"black\", linewidths=1)\n",
    "\n",
    "# Customize the plot\n",
    "plt.title(\"Average goals vs market value for attackers\")\n",
    "plt.xlabel(\"Average goals\")\n",
    "plt.ylabel(\"Market value Log2\")\n",
    "plt.show()\n",
    "\n",
    "valueGoalPlot[[\"market_value\", \"avgGoals\"]].corr()"
   ]
  },
  {
   "cell_type": "code",
   "execution_count": null,
   "metadata": {},
   "outputs": [],
   "source": [
    "# This plot explores the most valuable clubs in 2023\n",
    "\n",
    "# PostgreSQL data gathering\n",
    "sqlCursor.execute(\"\"\"\n",
    "                    SELECT c.name, SUM(p.market_value_in_eur), count(*) FROM club AS c \n",
    "                    INNER JOIN player AS p ON c.club_id = p.current_club_id \n",
    "                    WHERE c.last_season = p.last_season\n",
    "                    GROUP BY c.name\n",
    "                  \"\"\")\n",
    "marketValueClub = pd.DataFrame(sqlCursor.fetchall())\n",
    "marketValueClub = marketValueClub.rename(columns={0: \"club_name\", 1: \"market_value\", 2: \"player_count\"})\n",
    "\n",
    "# Cleaning from dirty data\n",
    "marketValueClub = marketValueClub.dropna()\n",
    "marketValueClub = marketValueClub.sort_values(by=[\"market_value\"], ascending=False)\n",
    "marketValueClubTop = marketValueClub[:15].sort_values(by=[\"market_value\"])"
   ]
  },
  {
   "cell_type": "code",
   "execution_count": null,
   "id": "cde8833e",
   "metadata": {},
   "outputs": [],
   "source": [
    "# Creating bar plot\n",
    "colors = plt.cm.viridis(np.linspace(0, 1, len(marketValueClubTop)))\n",
    "plt.figure(figsize=(12, 8))\n",
    "plt.barh(marketValueClubTop[\"club_name\"], marketValueClubTop[\"market_value\"], color=colors)\n",
    "\n",
    "# Customize the plot\n",
    "plt.title(\"Most valuable clubs\")\n",
    "plt.xlabel(\"Club value in bilion\")\n",
    "plt.ylabel(\"Club name\")\n",
    "plt.show()"
   ]
  },
  {
   "cell_type": "code",
   "execution_count": null,
   "metadata": {},
   "outputs": [],
   "source": [
    "# This plot examines the average age of players in an Italian club\n",
    "\n",
    "# PostgreSQL data gathering\n",
    "sqlCursor.execute(\"\"\"\n",
    "                  SELECT c.name, p.name, DATE_PART('year', AGE(date_of_birth)) AS age, c.domestic_competition_id FROM club AS c \n",
    "                  INNER JOIN player AS p ON c.club_id = p.current_club_id \n",
    "                  WHERE c.last_season = p.last_season\n",
    "                  ORDER BY c.club_id\n",
    "                  \"\"\")\n",
    "agePlayerClub = pd.DataFrame(sqlCursor.fetchall())\n",
    "agePlayerClub = agePlayerClub.rename(columns={0: \"club_name\", 1: \"player_name\", 2: \"player_age\", 3: \"competition\"})"
   ]
  },
  {
   "cell_type": "code",
   "execution_count": null,
   "metadata": {},
   "outputs": [],
   "source": [
    "# Creating box plot\n",
    "italianClubs = agePlayerClub[agePlayerClub[\"competition\"] == \"IT1\"];\n",
    "\n",
    "# Sort data by age\n",
    "sorted_data = italianClubs.groupby(\"club_name\")[\"player_age\"].median().sort_values()\n",
    "\n",
    "plt.figure(figsize=(20, 8))\n",
    "sns.boxplot(x=\"club_name\", y=\"player_age\", data=italianClubs, order=sorted_data.index, palette=\"light:b\", legend=False)\n",
    "plt.xticks(rotation=90)\n",
    "\n",
    "# Customize the plot\n",
    "plt.title(\"Player age in clubs\")\n",
    "plt.xlabel(\"Club name\")\n",
    "plt.ylabel(\"Player age\")\n",
    "plt.show()"
   ]
  },
  {
   "cell_type": "code",
   "execution_count": null,
   "metadata": {},
   "outputs": [],
   "source": [
    "# This plot examines the average age of players in an Italian club\n",
    "\n",
    "# PostgreSQL data gathering\n",
    "sqlCursor.execute(\"\"\"\n",
    "                    SELECT c.name, SUM(p.market_value_in_eur) AS somma, c.stadium_name, c.stadium_seats FROM club AS c \n",
    "                    INNER JOIN player AS p ON c.club_id = p.current_club_id \n",
    "                    WHERE c.last_season = p.last_season\n",
    "                    GROUP BY c.name, c.stadium_name, c.stadium_seats\n",
    "                    ORDER BY somma DESC\n",
    "                  \"\"\")\n",
    "stadiumClubValue = pd.DataFrame(sqlCursor.fetchall())\n",
    "stadiumClubValue = stadiumClubValue.rename(columns={0: \"club_name\", 1: \"club_value\", 2: \"stadium_name\", 3: \"stadium_seats\"})\n",
    "\n",
    "# Cleaning from dirty data\n",
    "stadiumClubValue = stadiumClubValue.dropna()\n",
    "\n",
    "# Flattening of values\n",
    "stadiumClubValue['club_value'] = pd.to_numeric(stadiumClubValue['club_value'], errors='coerce')\n",
    "stadiumClubValue['club_value'] = np.log2(stadiumClubValue['club_value'])"
   ]
  },
  {
   "cell_type": "code",
   "execution_count": null,
   "id": "f0b9ba60",
   "metadata": {},
   "outputs": [],
   "source": [
    "# Creating scatter plot\n",
    "plt.figure(figsize=(10, 6))\n",
    "scatter_plot = sns.scatterplot(x=\"stadium_seats\", y=\"club_value\", data=stadiumClubValue, hue=\"stadium_seats\", palette=\"viridis\", s=100, legend=False)\n",
    "\n",
    "# Customize the plot\n",
    "plt.title(\"Stadium Seats vs Club Value\")\n",
    "plt.xlabel(\"Stadium Seats\")\n",
    "plt.ylabel(\"Club Value Log2\")\n",
    "plt.show()\n",
    "\n",
    "stadiumClubValue[[\"club_value\", \"stadium_seats\"]].corr()"
   ]
  },
  {
   "cell_type": "code",
   "execution_count": null,
   "metadata": {},
   "outputs": [],
   "source": [
    "# This plot examines the average composition of roles in a club\n",
    "\n",
    "# PostgreSQL data gathering\n",
    "sqlCursor.execute(\"\"\"\n",
    "                    SELECT c.name, p.position, COUNT(*) FROM club AS c \n",
    "                    INNER JOIN player AS p ON c.club_id = p.current_club_id \n",
    "                    WHERE c.last_season = p.last_season\n",
    "                    GROUP BY c.name, p.position\n",
    "                    ORDER BY c.name\n",
    "                  \"\"\")\n",
    "clubComposition = pd.DataFrame(sqlCursor.fetchall())\n",
    "clubComposition = clubComposition.rename(columns={0: \"club_name\", 1: \"player_position\", 2: \"occurrence\"})\n",
    "\n",
    "# Cleaning from dirty data\n",
    "clubComposition = clubComposition[clubComposition[\"player_position\"] != \"Missing\"]"
   ]
  },
  {
   "cell_type": "code",
   "execution_count": null,
   "metadata": {},
   "outputs": [],
   "source": [
    "# Create a fig with 2 plots\n",
    "fig, axes = plt.subplots(1, 2, figsize=(15, 7), facecolor='white')\n",
    "\n",
    "# Creating pie plot for the left\n",
    "juventusData = clubComposition[clubComposition[\"club_name\"] == \"Juventus Football Club\"]\n",
    "juventusData = juventusData.sort_values(by=\"player_position\")\n",
    "\n",
    "axes[0].pie(juventusData[\"occurrence\"], labels=None, autopct='%1.1f%%')\n",
    "axes[0].set_ylabel('')\n",
    "axes[0].set_title(\"Composition of Juventus\")\n",
    "\n",
    "# Creating pie plot for the right\n",
    "globalComposition = clubComposition[[\"player_position\", \"occurrence\"]].groupby(\"player_position\").sum().reset_index()\n",
    "globalComposition = globalComposition.sort_values(by=\"player_position\")\n",
    "\n",
    "axes[1].pie(globalComposition[\"occurrence\"], labels=None, autopct='%1.1f%%')\n",
    "axes[1].set_ylabel('')\n",
    "axes[1].set_title(\"Average composition of clubs\")\n",
    "\n",
    "# Legend\n",
    "axes[0].legend(juventusData[\"player_position\"], title=\"Player Position\", loc=\"upper left\", bbox_to_anchor=(1, 1))"
   ]
  },
  {
   "cell_type": "code",
   "execution_count": null,
   "id": "430006a1",
   "metadata": {},
   "outputs": [],
   "source": [
    "# Closing database connections\n",
    "mongoClient.close()\n",
    "postgresConn.close()"
   ]
  }
 ],
 "metadata": {
  "kernelspec": {
   "display_name": "Python 3 (ipykernel)",
   "language": "python",
   "name": "python3"
  },
  "language_info": {
   "codemirror_mode": {
    "name": "ipython",
    "version": 3
   },
   "file_extension": ".py",
   "mimetype": "text/x-python",
   "name": "python",
   "nbconvert_exporter": "python",
   "pygments_lexer": "ipython3",
   "version": "3.10.2"
  }
 },
 "nbformat": 4,
 "nbformat_minor": 5
}
